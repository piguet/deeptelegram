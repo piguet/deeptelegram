{
  "nbformat": 4,
  "nbformat_minor": 0,
  "metadata": {
    "colab": {
      "name": "Deep_fake_telegram motion.ipynb",
      "provenance": [],
      "collapsed_sections": [],
      "toc_visible": true
    },
    "kernelspec": {
      "name": "python3",
      "display_name": "Python 3"
    },
    "accelerator": "GPU"
  },
  "cells": [
    {
      "cell_type": "markdown",
      "metadata": {
        "id": "cdO_RxQZLahB",
        "colab_type": "text"
      },
      "source": [
        "# Telegram deep fake bot\n",
        "\n",
        "[Github repo](https://github.com/piguet/deeptelegram/edit/master/DeepTelegram.ipynb)"
      ]
    },
    {
      "cell_type": "markdown",
      "metadata": {
        "id": "GCDNKsEGLtR6",
        "colab_type": "text"
      },
      "source": [
        "**Clone deep-fake repository**"
      ]
    },
    {
      "cell_type": "code",
      "metadata": {
        "colab_type": "code",
        "id": "LPxV-Vxs33Gx",
        "colab": {}
      },
      "source": [
        "!git clone https://github.com/AliaksandrSiarohin/motion-cosegmentation motion-co-seg"
      ],
      "execution_count": 0,
      "outputs": []
    },
    {
      "cell_type": "code",
      "metadata": {
        "id": "PBp6l_4bBYUL",
        "colab_type": "code",
        "colab": {}
      },
      "source": [
        "cd motion-co-seg/"
      ],
      "execution_count": 0,
      "outputs": []
    },
    {
      "cell_type": "markdown",
      "metadata": {
        "id": "IcMX7ueZO0Oa",
        "colab_type": "text"
      },
      "source": [
        "**Mount your Google drive folder on Colab**"
      ]
    },
    {
      "cell_type": "code",
      "metadata": {
        "id": "tDbMA8R9OuUo",
        "colab_type": "code",
        "colab": {}
      },
      "source": [
        "\n",
        "from google.colab import drive\n",
        "drive.mount('/content/gdrive')"
      ],
      "execution_count": 0,
      "outputs": []
    },
    {
      "cell_type": "markdown",
      "metadata": {
        "id": "VsgVK1EURXkd",
        "colab_type": "text"
      },
      "source": [
        "**Add folder https://drive.google.com/drive/folders/1SsBifjoM_qO0iFzb8wLlsz_4qW2j8dZe  to your google drive.**"
      ]
    },
    {
      "cell_type": "markdown",
      "metadata": {
        "id": "rW-ipQXPOWUo",
        "colab_type": "text"
      },
      "source": [
        "**Load the deep fake libraries**"
      ]
    },
    {
      "cell_type": "code",
      "metadata": {
        "id": "Oxi6-riLOgnm",
        "colab_type": "code",
        "colab": {}
      },
      "source": [
        "import imageio\n",
        "import numpy as np\n",
        "import matplotlib.pyplot as plt\n",
        "import matplotlib.animation as animation\n",
        "from skimage.transform import resize\n",
        "from skimage.util import crop\n",
        "from IPython.display import HTML\n",
        "import warnings\n",
        "warnings.filterwarnings(\"ignore\")\n",
        "\n",
        "from part_swap import load_checkpoints\n",
        "from part_swap import make_video\n",
        "from skimage import img_as_ubyte\n",
        "cpu = False\n"
      ],
      "execution_count": 0,
      "outputs": []
    },
    {
      "cell_type": "code",
      "metadata": {
        "id": "6IxlV4M483fE",
        "colab_type": "code",
        "colab": {}
      },
      "source": [
        "from part_swap import load_checkpoints\n",
        "\n",
        "reconstruction_module, segmentation_module = load_checkpoints(config='config/vox-256-sem-5segments.yaml', \n",
        "                                               checkpoint='/content/gdrive/My Drive/motion-supervised-co-segmentation/vox-5segments.pth.tar',\n",
        "                                               blend_scale=1)"
      ],
      "execution_count": 0,
      "outputs": []
    },
    {
      "cell_type": "markdown",
      "metadata": {
        "id": "xjM7ubVfWrwT",
        "colab_type": "text"
      },
      "source": [
        "**Install the telegram bot framework**"
      ]
    },
    {
      "cell_type": "code",
      "metadata": {
        "id": "wFGm3aa8Nnq4",
        "colab_type": "code",
        "colab": {}
      },
      "source": [
        "!pip install pyTelegramBotAPI"
      ],
      "execution_count": 0,
      "outputs": []
    },
    {
      "cell_type": "markdown",
      "metadata": {
        "id": "xMBUah6_p4q2",
        "colab_type": "text"
      },
      "source": [
        "## Make it a telegram bot\n",
        "\n",
        "contact the [@BotFather](https://t.me/BotFather) on telegram and create a new bot with the command `/newbot` \n",
        "\n",
        "After you've given the bot a name and username you should receive a message that looks like this ![alt text](https://i.imgur.com/BT8hHEL.png)\n",
        "\n",
        "\n",
        "Now copy and the paste the token below in the `API_TOKEN`.\n",
        "\n",
        "Now you can run this cell and start chatting with the bot."
      ]
    },
    {
      "cell_type": "code",
      "metadata": {
        "id": "jMSzRMloD8Mr",
        "colab_type": "code",
        "colab": {}
      },
      "source": [
        "import telebot\n",
        "import requests\n",
        "import shutil\n",
        "import subprocess\n",
        "import os.path\n",
        "\n",
        "API_TOKEN = ''\n",
        "bot = telebot.TeleBot(API_TOKEN)\n",
        "settings = {}\n",
        "enabled = []\n",
        "\n",
        "def isEnabled(id):\n",
        "  return id in enabled if len(enabled)>0 else True\n",
        "\n",
        "@bot.message_handler(commands=['start', 'help'])\n",
        "def send_welcome(message):\n",
        "  if isEnabled(message.chat.id):\n",
        "\t  bot.reply_to(message, \"Hi send me a photo (with square aspect ratio), you will then be able to use this face\\nSwitch output between video mode and video note mode with /output\\nSwitch relative position with /relative\")\n",
        "\n",
        "def get(key,id_utente,default_value=False):\n",
        "  if not id_utente in settings:\n",
        "    settings[id_utente]={}\n",
        "  if not key in settings[id_utente]:\n",
        "    settings[id_utente][key]=default_value\n",
        "  return settings[id_utente][key]\n",
        "\n",
        "def set(key,value,id_utente):\n",
        "  get(key,id_utente) #init\n",
        "  settings[id_utente][key]=value\n",
        "\n",
        "\n",
        "@bot.message_handler(commands=['output'])\n",
        "def videomode(message):\n",
        "  if isEnabled(message.chat.id):\n",
        "    if get('mode',message.chat.id):\n",
        "      set('mode',False,message.chat.id)\n",
        "    else:\n",
        "      set('mode',True,message.chat.id)\n",
        "    bot.reply_to(message, f\"Normal video mode is {get('mode',message.chat.id)}.\")\n",
        "\n",
        "@bot.message_handler(commands=['hair'])\n",
        "def videomode(message):\n",
        "  if isEnabled(message.chat.id):\n",
        "    if get('hair',message.chat.id):\n",
        "      set('hair',False,message.chat.id)\n",
        "    else:\n",
        "      set('hair',True,message.chat.id)\n",
        "    bot.reply_to(message, f\"Hair video mode is {get('hair',message.chat.id)}.\")\n",
        "\n",
        "@bot.message_handler(commands=['relative'])\n",
        "def relativemode(message):\n",
        "  if isEnabled(message.chat.id):\n",
        "    if get('relative',message.chat.id,default_value=True):\n",
        "      set('relative',True,message.chat.id)\n",
        "    else:\n",
        "      set('relative',False,message.chat.id)\n",
        "    bot.reply_to(message, f\"I've changed the relative mode to {get('relative',message.chat.id)} correctly.\")\n",
        "\n",
        "@bot.message_handler(content_types=['photo'])\n",
        "def download_pic(message):\n",
        "  if isEnabled(message.chat.id):\n",
        "    file_info = bot.get_file(message.photo[0].file_id)\n",
        "    file = requests.get('https://api.telegram.org/file/bot{0}/{1}'.format(API_TOKEN, file_info.file_path))\n",
        "    id = message.chat.id;\n",
        "    open(f'../src{id}.jpg', 'wb').write(file.content)\n",
        "    bot.reply_to(message, \"Perfect, now send me a video note or a video! (for best results keep head movements to a minimum and keep a static background)\")\n",
        "\n",
        "@bot.message_handler(content_types=['video_note','video'])\n",
        "def download_video(message):\n",
        "  if isEnabled(message.chat.id):\n",
        "    try:\n",
        "      id = message.chat.id;\n",
        "      file_info = bot.get_file(message.video_note.file_id if message.content_type == 'video_note' else message.video.file_id)\n",
        "      print('https://api.telegram.org/file/bot{0}/{1}'.format(API_TOKEN, file_info.file_path));\n",
        "      file = requests.get('https://api.telegram.org/file/bot{0}/{1}'.format(API_TOKEN, file_info.file_path))\n",
        "      open(f'../target{id}.mp4', 'wb').write(file.content)\n",
        "      #extract audio\n",
        "      subprocess.call(['ffmpeg', '-i', f'../target{id}.mp4', '-vn', '-acodec','copy', f'../out{id}.aac'])\n",
        "      if os.path.exists(f'../src{id}.jpg'):\n",
        "        bot.reply_to(message, \"I'm generating the deep fake...\")\n",
        "        bot.send_chat_action(id, 'record_video')\n",
        "        source_image = imageio.imread(f'../src{id}.jpg')\n",
        "        source_image = resize(source_image, (256, 256))[..., :3]\n",
        "      else:\n",
        "        bot.reply_to(message, \"You have to send me an image first!\")\n",
        "        return\n",
        "      try:\n",
        "        driving_video = imageio.mimread(f'../target{id}.mp4')\n",
        "      except Exception as e:\n",
        "        reader = imageio.get_reader(f'../target{id}.mp4')\n",
        "        driving_video = []\n",
        "        try:\n",
        "            for im in reader:\n",
        "                driving_video.append(im)\n",
        "        except RuntimeError:\n",
        "            pass\n",
        "      \n",
        "      driving_video = [resize(frame, (256, 256))[..., :3] for frame in driving_video]\n",
        "\n",
        "\n",
        "      #predictions = make_animation(source_image, driving_video, generator, kp_detector, relative=get('relative',message.chat.id,default_value=True),cpu=cpu)\n",
        "      if get('hair',message.chat.id):\n",
        "        predictions = make_video(swap_index=[1,2,5], source_image = source_image, target_video = driving_video,\n",
        "                             segmentation_module=segmentation_module, reconstruction_module=reconstruction_module)\n",
        "      else:\n",
        "        predictions = make_video(swap_index=[1,2], source_image = source_image, target_video = driving_video,\n",
        "                             segmentation_module=segmentation_module, reconstruction_module=reconstruction_module)\n",
        "      \n",
        "      \n",
        "      imageio.mimsave(f'../generated{id}.mp4', [img_as_ubyte(frame) for frame in predictions])\n",
        "      #normal speed\n",
        "      subprocess.call(['ffmpeg', '-itsscale','0.33334', '-i', f'../generated{id}.mp4', '-c','copy', f'../generated_fast{id}.mp4'])\n",
        "      #add audio\n",
        "      subprocess.call(['ffmpeg', '-i', f'../generated_fast{id}.mp4', '-i',f'../out{id}.aac', '-c', 'copy','-map','0:v:0','-map','1:a:0', f'../tosend{id}.mp4'])\n",
        "      videonote = open(f'../tosend{id}.mp4', 'rb')\n",
        "      if get('mode',message.chat.id):\n",
        "        bot.send_video_note(id, videonote)\n",
        "      else:\n",
        "        bot.send_video(id,videonote)\n",
        "    finally:\n",
        "      #cleanup\n",
        "      if os.path.exists(f'../target{id}.mp4'):\n",
        "        os.remove(f'../target{id}.mp4')\n",
        "      if os.path.exists(f'../generated{id}.mp4'):\n",
        "        os.remove(f'../generated{id}.mp4')\n",
        "      if os.path.exists(f'../generated_fast{id}.mp4'):\n",
        "        os.remove(f'../generated_fast{id}.mp4')\n",
        "      if os.path.exists(f'../tosend{id}.mp4'):\n",
        "        os.remove(f'../tosend{id}.mp4')\n",
        "      if os.path.exists(f'../out{id}.aac'):\n",
        "        os.remove(f'../out{id}.aac')\n",
        "      if os.path.exists(f'../src{id}.jpg'):\n",
        "        os.remove(f'../src{id}.jpg')\n",
        "\n",
        "bot.polling()"
      ],
      "execution_count": 0,
      "outputs": []
    }
  ]
}
