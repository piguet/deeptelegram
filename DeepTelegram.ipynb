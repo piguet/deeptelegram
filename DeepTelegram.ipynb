{
  "nbformat": 4,
  "nbformat_minor": 0,
  "metadata": {
    "colab": {
      "name": "Deep_fake_telegram motion.ipynb",
      "provenance": [],
      "collapsed_sections": [],
      "toc_visible": true
    },
    "kernelspec": {
      "name": "python3",
      "display_name": "Python 3"
    },
    "accelerator": "GPU"
  },
  "cells": [
    {
      "cell_type": "markdown",
      "metadata": {
        "id": "cdO_RxQZLahB",
        "colab_type": "text"
      },
      "source": [
        "# Telegram deep fake bot\n",
        "\n",
        "[Github repo](https://github.com/albertoxamin/telegram-deep-fakes-bot)"
      ]
    },
    {
      "cell_type": "markdown",
      "metadata": {
        "id": "GCDNKsEGLtR6",
        "colab_type": "text"
      },
      "source": [
        "**Clone deep-fake repository**"
      ]
    },
    {
      "cell_type": "code",
      "metadata": {
        "colab_type": "code",
        "outputId": "8ad3f087-d840-4744-abff-6733b27fd7c3",
        "id": "LPxV-Vxs33Gx",
        "colab": {
          "base_uri": "https://localhost:8080/",
          "height": 136
        }
      },
      "source": [
        "!git clone https://github.com/AliaksandrSiarohin/motion-cosegmentation motion-co-seg"
      ],
      "execution_count": 0,
      "outputs": [
        {
          "output_type": "stream",
          "text": [
            "Cloning into 'motion-co-seg'...\n",
            "remote: Enumerating objects: 72, done.\u001b[K\n",
            "remote: Counting objects:   1% (1/72)\u001b[K\rremote: Counting objects:   2% (2/72)\u001b[K\rremote: Counting objects:   4% (3/72)\u001b[K\rremote: Counting objects:   5% (4/72)\u001b[K\rremote: Counting objects:   6% (5/72)\u001b[K\rremote: Counting objects:   8% (6/72)\u001b[K\rremote: Counting objects:   9% (7/72)\u001b[K\rremote: Counting objects:  11% (8/72)\u001b[K\rremote: Counting objects:  12% (9/72)\u001b[K\rremote: Counting objects:  13% (10/72)\u001b[K\rremote: Counting objects:  15% (11/72)\u001b[K\rremote: Counting objects:  16% (12/72)\u001b[K\rremote: Counting objects:  18% (13/72)\u001b[K\rremote: Counting objects:  19% (14/72)\u001b[K\rremote: Counting objects:  20% (15/72)\u001b[K\rremote: Counting objects:  22% (16/72)\u001b[K\rremote: Counting objects:  23% (17/72)\u001b[K\rremote: Counting objects:  25% (18/72)\u001b[K\rremote: Counting objects:  26% (19/72)\u001b[K\rremote: Counting objects:  27% (20/72)\u001b[K\rremote: Counting objects:  29% (21/72)\u001b[K\rremote: Counting objects:  30% (22/72)\u001b[K\rremote: Counting objects:  31% (23/72)\u001b[K\rremote: Counting objects:  33% (24/72)\u001b[K\rremote: Counting objects:  34% (25/72)\u001b[K\rremote: Counting objects:  36% (26/72)\u001b[K\rremote: Counting objects:  37% (27/72)\u001b[K\rremote: Counting objects:  38% (28/72)\u001b[K\rremote: Counting objects:  40% (29/72)\u001b[K\rremote: Counting objects:  41% (30/72)\u001b[K\rremote: Counting objects:  43% (31/72)\u001b[K\rremote: Counting objects:  44% (32/72)\u001b[K\rremote: Counting objects:  45% (33/72)\u001b[K\rremote: Counting objects:  47% (34/72)\u001b[K\rremote: Counting objects:  48% (35/72)\u001b[K\rremote: Counting objects:  50% (36/72)\u001b[K\rremote: Counting objects:  51% (37/72)\u001b[K\rremote: Counting objects:  52% (38/72)\u001b[K\rremote: Counting objects:  54% (39/72)\u001b[K\rremote: Counting objects:  55% (40/72)\u001b[K\rremote: Counting objects:  56% (41/72)\u001b[K\rremote: Counting objects:  58% (42/72)\u001b[K\rremote: Counting objects:  59% (43/72)\u001b[K\rremote: Counting objects:  61% (44/72)\u001b[K\rremote: Counting objects:  62% (45/72)\u001b[K\rremote: Counting objects:  63% (46/72)\u001b[K\rremote: Counting objects:  65% (47/72)\u001b[K\rremote: Counting objects:  66% (48/72)\u001b[K\rremote: Counting objects:  68% (49/72)\u001b[K\rremote: Counting objects:  69% (50/72)\u001b[K\rremote: Counting objects:  70% (51/72)\u001b[K\rremote: Counting objects:  72% (52/72)\u001b[K\rremote: Counting objects:  73% (53/72)\u001b[K\rremote: Counting objects:  75% (54/72)\u001b[K\rremote: Counting objects:  76% (55/72)\u001b[K\rremote: Counting objects:  77% (56/72)\u001b[K\rremote: Counting objects:  79% (57/72)\u001b[K\rremote: Counting objects:  80% (58/72)\u001b[K\rremote: Counting objects:  81% (59/72)\u001b[K\rremote: Counting objects:  83% (60/72)\u001b[K\rremote: Counting objects:  84% (61/72)\u001b[K\rremote: Counting objects:  86% (62/72)\u001b[K\rremote: Counting objects:  87% (63/72)\u001b[K\rremote: Counting objects:  88% (64/72)\u001b[K\rremote: Counting objects:  90% (65/72)\u001b[K\rremote: Counting objects:  91% (66/72)\u001b[K\rremote: Counting objects:  93% (67/72)\u001b[K\rremote: Counting objects:  94% (68/72)\u001b[K\rremote: Counting objects:  95% (69/72)\u001b[K\rremote: Counting objects:  97% (70/72)\u001b[K\rremote: Counting objects:  98% (71/72)\u001b[K\rremote: Counting objects: 100% (72/72)\u001b[K\rremote: Counting objects: 100% (72/72), done.\u001b[K\n",
            "remote: Compressing objects: 100% (66/66), done.\u001b[K\n",
            "remote: Total 72 (delta 22), reused 44 (delta 6), pack-reused 0\u001b[K\n",
            "Unpacking objects: 100% (72/72), done.\n",
            "fatal: destination path 'motion-co-seg' already exists and is not an empty directory.\n"
          ],
          "name": "stdout"
        }
      ]
    },
    {
      "cell_type": "code",
      "metadata": {
        "id": "PBp6l_4bBYUL",
        "colab_type": "code",
        "outputId": "f78b11bc-cff0-4917-a0cd-d17a35d37da1",
        "colab": {
          "base_uri": "https://localhost:8080/",
          "height": 34
        }
      },
      "source": [
        "cd motion-co-seg/"
      ],
      "execution_count": 0,
      "outputs": [
        {
          "output_type": "stream",
          "text": [
            "/content/motion-co-seg\n"
          ],
          "name": "stdout"
        }
      ]
    },
    {
      "cell_type": "markdown",
      "metadata": {
        "id": "IcMX7ueZO0Oa",
        "colab_type": "text"
      },
      "source": [
        "**Mount your Google drive folder on Colab**"
      ]
    },
    {
      "cell_type": "code",
      "metadata": {
        "id": "tDbMA8R9OuUo",
        "colab_type": "code",
        "outputId": "54d4a8e2-a804-4793-e0ed-d91bb39b487a",
        "colab": {
          "base_uri": "https://localhost:8080/",
          "height": 122
        }
      },
      "source": [
        "\n",
        "from google.colab import drive\n",
        "drive.mount('/content/gdrive')"
      ],
      "execution_count": 0,
      "outputs": [
        {
          "output_type": "stream",
          "text": [
            "Go to this URL in a browser: https://accounts.google.com/o/oauth2/auth?client_id=947318989803-6bn6qk8qdgf4n4g3pfee6491hc0brc4i.apps.googleusercontent.com&redirect_uri=urn%3aietf%3awg%3aoauth%3a2.0%3aoob&response_type=code&scope=email%20https%3a%2f%2fwww.googleapis.com%2fauth%2fdocs.test%20https%3a%2f%2fwww.googleapis.com%2fauth%2fdrive%20https%3a%2f%2fwww.googleapis.com%2fauth%2fdrive.photos.readonly%20https%3a%2f%2fwww.googleapis.com%2fauth%2fpeopleapi.readonly\n",
            "\n",
            "Enter your authorization code:\n",
            "··········\n",
            "Mounted at /content/gdrive\n"
          ],
          "name": "stdout"
        }
      ]
    },
    {
      "cell_type": "markdown",
      "metadata": {
        "id": "VsgVK1EURXkd",
        "colab_type": "text"
      },
      "source": [
        "**Add folder https://drive.google.com/drive/folders/1SsBifjoM_qO0iFzb8wLlsz_4qW2j8dZe  to your google drive.**"
      ]
    },
    {
      "cell_type": "markdown",
      "metadata": {
        "id": "rW-ipQXPOWUo",
        "colab_type": "text"
      },
      "source": [
        "**Load the deep fake libraries**"
      ]
    },
    {
      "cell_type": "code",
      "metadata": {
        "id": "Oxi6-riLOgnm",
        "colab_type": "code",
        "colab": {}
      },
      "source": [
        "import imageio\n",
        "import numpy as np\n",
        "import matplotlib.pyplot as plt\n",
        "import matplotlib.animation as animation\n",
        "from skimage.transform import resize\n",
        "from skimage.util import crop\n",
        "from IPython.display import HTML\n",
        "import warnings\n",
        "warnings.filterwarnings(\"ignore\")\n",
        "\n",
        "from part_swap import load_checkpoints\n",
        "from part_swap import make_video\n",
        "from skimage import img_as_ubyte\n",
        "cpu = False\n"
      ],
      "execution_count": 0,
      "outputs": []
    },
    {
      "cell_type": "code",
      "metadata": {
        "id": "6IxlV4M483fE",
        "colab_type": "code",
        "colab": {}
      },
      "source": [
        "from part_swap import load_checkpoints\n",
        "\n",
        "reconstruction_module, segmentation_module = load_checkpoints(config='config/vox-256-sem-5segments.yaml', \n",
        "                                               checkpoint='/content/gdrive/My Drive/motion-supervised-co-segmentation/vox-5segments.pth.tar',\n",
        "                                               blend_scale=1)"
      ],
      "execution_count": 0,
      "outputs": []
    },
    {
      "cell_type": "markdown",
      "metadata": {
        "id": "xjM7ubVfWrwT",
        "colab_type": "text"
      },
      "source": [
        "**Install the telegram bot framework**"
      ]
    },
    {
      "cell_type": "code",
      "metadata": {
        "id": "wFGm3aa8Nnq4",
        "colab_type": "code",
        "outputId": "d954ab26-1653-4b01-b63d-bf58535e2d69",
        "colab": {
          "base_uri": "https://localhost:8080/",
          "height": 309
        }
      },
      "source": [
        "!pip install pyTelegramBotAPI"
      ],
      "execution_count": 0,
      "outputs": [
        {
          "output_type": "stream",
          "text": [
            "Collecting pyTelegramBotAPI\n",
            "\u001b[?25l  Downloading https://files.pythonhosted.org/packages/62/ab/99c606f69fcda57e35788b913dd34c9d9acb48dd26349141b3855dcf6351/pyTelegramBotAPI-3.6.7.tar.gz (65kB)\n",
            "\r\u001b[K     |█████                           | 10kB 27.8MB/s eta 0:00:01\r\u001b[K     |██████████                      | 20kB 2.9MB/s eta 0:00:01\r\u001b[K     |███████████████                 | 30kB 4.0MB/s eta 0:00:01\r\u001b[K     |████████████████████            | 40kB 2.8MB/s eta 0:00:01\r\u001b[K     |█████████████████████████       | 51kB 3.2MB/s eta 0:00:01\r\u001b[K     |██████████████████████████████  | 61kB 3.8MB/s eta 0:00:01\r\u001b[K     |████████████████████████████████| 71kB 3.3MB/s \n",
            "\u001b[?25hRequirement already satisfied: requests in /usr/local/lib/python3.6/dist-packages (from pyTelegramBotAPI) (2.21.0)\n",
            "Requirement already satisfied: six in /usr/local/lib/python3.6/dist-packages (from pyTelegramBotAPI) (1.12.0)\n",
            "Requirement already satisfied: urllib3<1.25,>=1.21.1 in /usr/local/lib/python3.6/dist-packages (from requests->pyTelegramBotAPI) (1.24.3)\n",
            "Requirement already satisfied: idna<2.9,>=2.5 in /usr/local/lib/python3.6/dist-packages (from requests->pyTelegramBotAPI) (2.8)\n",
            "Requirement already satisfied: chardet<3.1.0,>=3.0.2 in /usr/local/lib/python3.6/dist-packages (from requests->pyTelegramBotAPI) (3.0.4)\n",
            "Requirement already satisfied: certifi>=2017.4.17 in /usr/local/lib/python3.6/dist-packages (from requests->pyTelegramBotAPI) (2020.4.5.1)\n",
            "Building wheels for collected packages: pyTelegramBotAPI\n",
            "  Building wheel for pyTelegramBotAPI (setup.py) ... \u001b[?25l\u001b[?25hdone\n",
            "  Created wheel for pyTelegramBotAPI: filename=pyTelegramBotAPI-3.6.7-cp36-none-any.whl size=47178 sha256=aabffb48aea8657750e4d7d8a157b3fe79260c235df1055a456b61c2913b75c0\n",
            "  Stored in directory: /root/.cache/pip/wheels/23/40/18/8a34153f95ef0dc19e3954898e5a5079244b76a8afdd7d0ec5\n",
            "Successfully built pyTelegramBotAPI\n",
            "Installing collected packages: pyTelegramBotAPI\n",
            "Successfully installed pyTelegramBotAPI-3.6.7\n"
          ],
          "name": "stdout"
        }
      ]
    },
    {
      "cell_type": "markdown",
      "metadata": {
        "id": "xMBUah6_p4q2",
        "colab_type": "text"
      },
      "source": [
        "## Make it a telegram bot\n",
        "\n",
        "contact the [@BotFather](https://t.me/BotFather) on telegram and create a new bot with the command `/newbot` \n",
        "\n",
        "After you've given the bot a name and username you should receive a message that looks like this ![alt text](https://i.imgur.com/BT8hHEL.png)\n",
        "\n",
        "\n",
        "Now copy and the paste the token below in the `API_TOKEN`.\n",
        "\n",
        "Now you can run this cell and start chatting with the bot."
      ]
    },
    {
      "cell_type": "code",
      "metadata": {
        "id": "jMSzRMloD8Mr",
        "colab_type": "code",
        "outputId": "c1d72de0-bb8e-4e58-ae8c-e4919005af2d",
        "colab": {
          "base_uri": "https://localhost:8080/",
          "height": 493
        }
      },
      "source": [
        "import telebot\n",
        "import requests\n",
        "import shutil\n",
        "import subprocess\n",
        "import os.path\n",
        "\n",
        "API_TOKEN = ''\n",
        "bot = telebot.TeleBot(API_TOKEN)\n",
        "settings = {}\n",
        "enabled = []\n",
        "\n",
        "def isEnabled(id):\n",
        "  return id in enabled if len(enabled)>0 else True\n",
        "\n",
        "@bot.message_handler(commands=['start', 'help'])\n",
        "def send_welcome(message):\n",
        "  if isEnabled(message.chat.id):\n",
        "\t  bot.reply_to(message, \"Hi send me a photo (with square aspect ratio), you will then be able to use this face\\nSwitch output between video mode and video note mode with /output\\nSwitch relative position with /relative\")\n",
        "\n",
        "def get(key,id_utente,default_value=False):\n",
        "  if not id_utente in settings:\n",
        "    settings[id_utente]={}\n",
        "  if not key in settings[id_utente]:\n",
        "    settings[id_utente][key]=default_value\n",
        "  return settings[id_utente][key]\n",
        "\n",
        "def set(key,value,id_utente):\n",
        "  get(key,id_utente) #init\n",
        "  settings[id_utente][key]=value\n",
        "\n",
        "\n",
        "@bot.message_handler(commands=['output'])\n",
        "def videomode(message):\n",
        "  if isEnabled(message.chat.id):\n",
        "    if get('mode',message.chat.id):\n",
        "      set('mode',False,message.chat.id)\n",
        "    else:\n",
        "      set('mode',True,message.chat.id)\n",
        "    bot.reply_to(message, f\"Normal video mode is {get('mode',message.chat.id)}.\")\n",
        "\n",
        "@bot.message_handler(commands=['hair'])\n",
        "def videomode(message):\n",
        "  if isEnabled(message.chat.id):\n",
        "    if get('hair',message.chat.id):\n",
        "      set('hair',False,message.chat.id)\n",
        "    else:\n",
        "      set('hair',True,message.chat.id)\n",
        "    bot.reply_to(message, f\"Hair video mode is {get('hair',message.chat.id)}.\")\n",
        "\n",
        "@bot.message_handler(commands=['relative'])\n",
        "def relativemode(message):\n",
        "  if isEnabled(message.chat.id):\n",
        "    if get('relative',message.chat.id,default_value=True):\n",
        "      set('relative',True,message.chat.id)\n",
        "    else:\n",
        "      set('relative',False,message.chat.id)\n",
        "    bot.reply_to(message, f\"I've changed the relative mode to {get('relative',message.chat.id)} correctly.\")\n",
        "\n",
        "@bot.message_handler(content_types=['photo'])\n",
        "def download_pic(message):\n",
        "  if isEnabled(message.chat.id):\n",
        "    file_info = bot.get_file(message.photo[0].file_id)\n",
        "    file = requests.get('https://api.telegram.org/file/bot{0}/{1}'.format(API_TOKEN, file_info.file_path))\n",
        "    id = message.chat.id;\n",
        "    open(f'../src{id}.jpg', 'wb').write(file.content)\n",
        "    bot.reply_to(message, \"Perfect, now send me a video note or a video! (for best results keep head movements to a minimum and keep a static background)\")\n",
        "\n",
        "@bot.message_handler(content_types=['video_note','video'])\n",
        "def download_video(message):\n",
        "  if isEnabled(message.chat.id):\n",
        "    try:\n",
        "      id = message.chat.id;\n",
        "      file_info = bot.get_file(message.video_note.file_id if message.content_type == 'video_note' else message.video.file_id)\n",
        "      print('https://api.telegram.org/file/bot{0}/{1}'.format(API_TOKEN, file_info.file_path));\n",
        "      file = requests.get('https://api.telegram.org/file/bot{0}/{1}'.format(API_TOKEN, file_info.file_path))\n",
        "      open(f'../target{id}.mp4', 'wb').write(file.content)\n",
        "      #extract audio\n",
        "      subprocess.call(['ffmpeg', '-i', f'../target{id}.mp4', '-vn', '-acodec','copy', f'../out{id}.aac'])\n",
        "      if os.path.exists(f'../src{id}.jpg'):\n",
        "        bot.reply_to(message, \"I'm generating the deep fake...\")\n",
        "        bot.send_chat_action(id, 'record_video')\n",
        "        source_image = imageio.imread(f'../src{id}.jpg')\n",
        "        source_image = resize(source_image, (256, 256))[..., :3]\n",
        "      else:\n",
        "        bot.reply_to(message, \"You have to send me an image first!\")\n",
        "        return\n",
        "      try:\n",
        "        driving_video = imageio.mimread(f'../target{id}.mp4')\n",
        "      except Exception as e:\n",
        "        reader = imageio.get_reader(f'../target{id}.mp4')\n",
        "        driving_video = []\n",
        "        try:\n",
        "            for im in reader:\n",
        "                driving_video.append(im)\n",
        "        except RuntimeError:\n",
        "            pass\n",
        "      \n",
        "      driving_video = [resize(frame, (256, 256))[..., :3] for frame in driving_video]\n",
        "\n",
        "\n",
        "      #predictions = make_animation(source_image, driving_video, generator, kp_detector, relative=get('relative',message.chat.id,default_value=True),cpu=cpu)\n",
        "      if get('hair',message.chat.id):\n",
        "        predictions = make_video(swap_index=[1,2,5], source_image = source_image, target_video = driving_video,\n",
        "                             segmentation_module=segmentation_module, reconstruction_module=reconstruction_module)\n",
        "      else:\n",
        "        predictions = make_video(swap_index=[1,2], source_image = source_image, target_video = driving_video,\n",
        "                             segmentation_module=segmentation_module, reconstruction_module=reconstruction_module)\n",
        "      \n",
        "      \n",
        "      imageio.mimsave(f'../generated{id}.mp4', [img_as_ubyte(frame) for frame in predictions])\n",
        "      #normal speed\n",
        "      subprocess.call(['ffmpeg', '-itsscale','0.33334', '-i', f'../generated{id}.mp4', '-c','copy', f'../generated_fast{id}.mp4'])\n",
        "      #add audio\n",
        "      subprocess.call(['ffmpeg', '-i', f'../generated_fast{id}.mp4', '-i',f'../out{id}.aac', '-c', 'copy','-map','0:v:0','-map','1:a:0', f'../tosend{id}.mp4'])\n",
        "      videonote = open(f'../tosend{id}.mp4', 'rb')\n",
        "      if get('mode',message.chat.id):\n",
        "        bot.send_video_note(id, videonote)\n",
        "      else:\n",
        "        bot.send_video(id,videonote)\n",
        "    finally:\n",
        "      #cleanup\n",
        "      if os.path.exists(f'../target{id}.mp4'):\n",
        "        os.remove(f'../target{id}.mp4')\n",
        "      if os.path.exists(f'../generated{id}.mp4'):\n",
        "        os.remove(f'../generated{id}.mp4')\n",
        "      if os.path.exists(f'../generated_fast{id}.mp4'):\n",
        "        os.remove(f'../generated_fast{id}.mp4')\n",
        "      if os.path.exists(f'../tosend{id}.mp4'):\n",
        "        os.remove(f'../tosend{id}.mp4')\n",
        "      if os.path.exists(f'../out{id}.aac'):\n",
        "        os.remove(f'../out{id}.aac')\n",
        "      if os.path.exists(f'../src{id}.jpg'):\n",
        "        os.remove(f'../src{id}.jpg')\n",
        "\n",
        "bot.polling()"
      ],
      "execution_count": 0,
      "outputs": [
        {
          "output_type": "stream",
          "text": [
            "https://api.telegram.org/file/bot1112892672:AAFXiy2AER4aMkJ5ENR9JlqSycJTR1IMrkQ/video_notes/file_241.mp4\n"
          ],
          "name": "stdout"
        },
        {
          "output_type": "stream",
          "text": [
            "100%|██████████| 109/109 [00:03<00:00, 33.83it/s]\n"
          ],
          "name": "stderr"
        },
        {
          "output_type": "stream",
          "text": [
            "https://api.telegram.org/file/bot1112892672:AAFXiy2AER4aMkJ5ENR9JlqSycJTR1IMrkQ/video_notes/file_243.mp4\n"
          ],
          "name": "stdout"
        },
        {
          "output_type": "stream",
          "text": [
            "100%|██████████| 106/106 [00:03<00:00, 34.65it/s]\n"
          ],
          "name": "stderr"
        },
        {
          "output_type": "stream",
          "text": [
            "https://api.telegram.org/file/bot1112892672:AAFXiy2AER4aMkJ5ENR9JlqSycJTR1IMrkQ/video_notes/file_245.mp4\n"
          ],
          "name": "stdout"
        },
        {
          "output_type": "stream",
          "text": [
            "100%|██████████| 176/176 [00:05<00:00, 34.60it/s]\n"
          ],
          "name": "stderr"
        },
        {
          "output_type": "stream",
          "text": [
            "https://api.telegram.org/file/bot1112892672:AAFXiy2AER4aMkJ5ENR9JlqSycJTR1IMrkQ/video_notes/file_247.mp4\n"
          ],
          "name": "stdout"
        },
        {
          "output_type": "stream",
          "text": [
            "100%|██████████| 118/118 [00:03<00:00, 34.63it/s]\n"
          ],
          "name": "stderr"
        },
        {
          "output_type": "stream",
          "text": [
            "https://api.telegram.org/file/bot1112892672:AAFXiy2AER4aMkJ5ENR9JlqSycJTR1IMrkQ/video_notes/file_249.mp4\n"
          ],
          "name": "stdout"
        },
        {
          "output_type": "stream",
          "text": [
            "100%|██████████| 143/143 [00:04<00:00, 34.52it/s]\n"
          ],
          "name": "stderr"
        },
        {
          "output_type": "stream",
          "text": [
            "https://api.telegram.org/file/bot1112892672:AAFXiy2AER4aMkJ5ENR9JlqSycJTR1IMrkQ/video_notes/file_251.mp4\n"
          ],
          "name": "stdout"
        },
        {
          "output_type": "stream",
          "text": [
            "100%|██████████| 543/543 [00:15<00:00, 34.73it/s]\n"
          ],
          "name": "stderr"
        },
        {
          "output_type": "stream",
          "text": [
            "https://api.telegram.org/file/bot1112892672:AAFXiy2AER4aMkJ5ENR9JlqSycJTR1IMrkQ/video_notes/file_253.mp4\n"
          ],
          "name": "stdout"
        },
        {
          "output_type": "stream",
          "text": [
            "100%|██████████| 499/499 [00:14<00:00, 34.30it/s]\n"
          ],
          "name": "stderr"
        },
        {
          "output_type": "stream",
          "text": [
            "https://api.telegram.org/file/bot1112892672:AAFXiy2AER4aMkJ5ENR9JlqSycJTR1IMrkQ/video_notes/file_254.mp4\n"
          ],
          "name": "stdout"
        },
        {
          "output_type": "stream",
          "text": [
            "100%|██████████| 107/107 [00:03<00:00, 34.36it/s]\n"
          ],
          "name": "stderr"
        },
        {
          "output_type": "stream",
          "text": [
            "https://api.telegram.org/file/bot1112892672:AAFXiy2AER4aMkJ5ENR9JlqSycJTR1IMrkQ/video_notes/file_255.mp4\n"
          ],
          "name": "stdout"
        },
        {
          "output_type": "stream",
          "text": [
            "100%|██████████| 83/83 [00:02<00:00, 34.46it/s]\n"
          ],
          "name": "stderr"
        },
        {
          "output_type": "stream",
          "text": [
            "https://api.telegram.org/file/bot1112892672:AAFXiy2AER4aMkJ5ENR9JlqSycJTR1IMrkQ/video_notes/file_257.mp4\n"
          ],
          "name": "stdout"
        },
        {
          "output_type": "stream",
          "text": [
            "100%|██████████| 97/97 [00:02<00:00, 34.20it/s]\n"
          ],
          "name": "stderr"
        },
        {
          "output_type": "stream",
          "text": [
            "https://api.telegram.org/file/bot1112892672:AAFXiy2AER4aMkJ5ENR9JlqSycJTR1IMrkQ/video_notes/file_258.mp4\n"
          ],
          "name": "stdout"
        },
        {
          "output_type": "stream",
          "text": [
            "100%|██████████| 221/221 [00:06<00:00, 33.57it/s]\n"
          ],
          "name": "stderr"
        },
        {
          "output_type": "stream",
          "text": [
            "https://api.telegram.org/file/bot1112892672:AAFXiy2AER4aMkJ5ENR9JlqSycJTR1IMrkQ/video_notes/file_260.mp4\n"
          ],
          "name": "stdout"
        },
        {
          "output_type": "stream",
          "text": [
            "100%|██████████| 211/211 [00:06<00:00, 34.07it/s]\n"
          ],
          "name": "stderr"
        },
        {
          "output_type": "stream",
          "text": [
            "https://api.telegram.org/file/bot1112892672:AAFXiy2AER4aMkJ5ENR9JlqSycJTR1IMrkQ/videos/file_261.mp4\n"
          ],
          "name": "stdout"
        },
        {
          "output_type": "stream",
          "text": [
            "100%|██████████| 210/210 [00:06<00:00, 34.43it/s]\n"
          ],
          "name": "stderr"
        },
        {
          "output_type": "stream",
          "text": [
            "https://api.telegram.org/file/bot1112892672:AAFXiy2AER4aMkJ5ENR9JlqSycJTR1IMrkQ/video_notes/file_263.mp4\n"
          ],
          "name": "stdout"
        },
        {
          "output_type": "stream",
          "text": [
            "100%|██████████| 211/211 [00:06<00:00, 34.19it/s]\n"
          ],
          "name": "stderr"
        }
      ]
    }
  ]
}